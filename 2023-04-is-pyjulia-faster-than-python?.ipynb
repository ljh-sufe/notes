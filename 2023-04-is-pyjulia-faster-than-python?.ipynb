{
 "cells": [
  {
   "attachments": {},
   "cell_type": "markdown",
   "metadata": {},
   "source": [
    "i am using julia functions in python via pyjulia.\n",
    "\n",
    "Is pyjulia fastr than python?\n",
    "\n",
    "based on my test the answer is yes!\n",
    "\n",
    "environment: macbook pro m2, 24g ram\n",
    "\n",
    "matrix multiplication for 1000 loops\n",
    "\n",
    "numpy: 52s\n",
    "\n",
    "numba: 55s\n",
    "\n",
    "pyjulia: 20s\n",
    "\n",
    "my methodology might have flaws。"
   ]
  },
  {
   "cell_type": "code",
   "execution_count": 13,
   "metadata": {},
   "outputs": [],
   "source": [
    "import numpy as np\n",
    "d = 100\n",
    "np.random.seed(9987)\n",
    "img1 = np.random.rand(d,d) * 5\n",
    "img2 = np.random.rand(d,d) * 10\n",
    "img3 = np.random.rand(d,d) * 15"
   ]
  },
  {
   "cell_type": "code",
   "execution_count": 22,
   "metadata": {},
   "outputs": [
    {
     "name": "stdout",
     "output_type": "stream",
     "text": [
      "172 ms ± 16 ms per loop (mean ± std. dev. of 7 runs, 1 loop each)\n"
     ]
    }
   ],
   "source": [
    "%%timeit\n",
    "def add_arrays(img1, img2, img3):\n",
    "    return img1.dot(img2).dot(img3)\n",
    "res = add_arrays(img1, img2, img3)\n",
    "for i in range(0,999):\n",
    "    res = add_arrays(img1, img2, img3) + res\n",
    "res"
   ]
  },
  {
   "cell_type": "code",
   "execution_count": 5,
   "metadata": {},
   "outputs": [],
   "source": [
    "from numba import jit, njit"
   ]
  },
  {
   "cell_type": "code",
   "execution_count": 6,
   "metadata": {},
   "outputs": [
    {
     "name": "stdout",
     "output_type": "stream",
     "text": [
      "CPU times: user 6min 7s, sys: 13.8 s, total: 6min 20s\n",
      "Wall time: 55.1 s\n"
     ]
    },
    {
     "data": {
      "text/plain": [
       "array([[9.88568412e+10, 9.78604658e+10, 9.66680429e+10, ...,\n",
       "        9.73998770e+10, 9.52329747e+10, 9.90420342e+10],\n",
       "       [9.40986631e+10, 9.31475249e+10, 9.20485680e+10, ...,\n",
       "        9.27143130e+10, 9.06622496e+10, 9.43313234e+10],\n",
       "       [9.46538800e+10, 9.36801743e+10, 9.26299943e+10, ...,\n",
       "        9.32901721e+10, 9.11970987e+10, 9.48370782e+10],\n",
       "       ...,\n",
       "       [9.49326770e+10, 9.39471571e+10, 9.28640450e+10, ...,\n",
       "        9.35714951e+10, 9.14663924e+10, 9.51232922e+10],\n",
       "       [9.57524969e+10, 9.47901989e+10, 9.37009184e+10, ...,\n",
       "        9.43720687e+10, 9.22873880e+10, 9.59757649e+10],\n",
       "       [9.35055629e+10, 9.26085586e+10, 9.14846754e+10, ...,\n",
       "        9.21646122e+10, 9.01229034e+10, 9.37072070e+10]])"
      ]
     },
     "execution_count": 6,
     "metadata": {},
     "output_type": "execute_result"
    }
   ],
   "source": [
    "%%time\n",
    "@jit(nopython=True)\n",
    "def add_arrays_numba(img1, img2, img3):\n",
    "    res = img1.dot(img2).dot(img3)\n",
    "    for i in range(0,999):\n",
    "        res = img1.dot(img2).dot(img3) + res\n",
    "    return res\n",
    "add_arrays_numba(img1, img2, img3)"
   ]
  },
  {
   "cell_type": "code",
   "execution_count": 11,
   "metadata": {},
   "outputs": [],
   "source": [
    "from julia.api import Julia\n",
    "jl = Julia(compiled_modules=False)\n",
    "\n",
    "jl.eval(\"@eval Main import Base.MainInclude: include\")\n",
    "from julia import Main\n",
    "Main.include(\"others/ljulia.jl\")\n",
    "from julia import Base"
   ]
  },
  {
   "cell_type": "code",
   "execution_count": 23,
   "metadata": {},
   "outputs": [
    {
     "name": "stdout",
     "output_type": "stream",
     "text": [
      "91.3 ms ± 8.82 ms per loop (mean ± std. dev. of 7 runs, 10 loops each)\n"
     ]
    }
   ],
   "source": [
    "%%timeit\n",
    "Main.matrixMultiplicationLoop(img1, img2, img3)"
   ]
  },
  {
   "cell_type": "code",
   "execution_count": 9,
   "metadata": {},
   "outputs": [
    {
     "data": {
      "text/plain": [
       "numpy.float64"
      ]
     },
     "execution_count": 9,
     "metadata": {},
     "output_type": "execute_result"
    }
   ],
   "source": []
  },
  {
   "cell_type": "code",
   "execution_count": null,
   "metadata": {},
   "outputs": [
    {
     "data": {
      "text/plain": [
       "100000000"
      ]
     },
     "execution_count": 10,
     "metadata": {},
     "output_type": "execute_result"
    }
   ],
   "source": [
    "def for_loop(iterations = 100):\n",
    "    a = 0\n",
    "    for i in range(iterations):\n",
    "        a = a + 1\n",
    "    return a\n",
    "for_loop(iterations = 10_000_0000)"
   ]
  },
  {
   "cell_type": "code",
   "execution_count": null,
   "metadata": {},
   "outputs": [
    {
     "data": {
      "text/plain": [
       "100000000"
      ]
     },
     "execution_count": 12,
     "metadata": {},
     "output_type": "execute_result"
    }
   ],
   "source": [
    "Main.for_loop(10_000_0000)"
   ]
  },
  {
   "cell_type": "code",
   "execution_count": null,
   "metadata": {},
   "outputs": [],
   "source": [
    "\n",
    "print(Main.add(1,2))\n",
    "print(Main.divide(1,2))"
   ]
  },
  {
   "cell_type": "code",
   "execution_count": null,
   "metadata": {},
   "outputs": [
    {
     "data": {
      "text/html": [
       "<div>\n",
       "<style scoped>\n",
       "    .dataframe tbody tr th:only-of-type {\n",
       "        vertical-align: middle;\n",
       "    }\n",
       "\n",
       "    .dataframe tbody tr th {\n",
       "        vertical-align: top;\n",
       "    }\n",
       "\n",
       "    .dataframe thead th {\n",
       "        text-align: right;\n",
       "    }\n",
       "</style>\n",
       "<table border=\"1\" class=\"dataframe\">\n",
       "  <thead>\n",
       "    <tr style=\"text-align: right;\">\n",
       "      <th></th>\n",
       "      <th>a</th>\n",
       "      <th>b</th>\n",
       "    </tr>\n",
       "  </thead>\n",
       "  <tbody>\n",
       "    <tr>\n",
       "      <th>0</th>\n",
       "      <td>1</td>\n",
       "      <td>4</td>\n",
       "    </tr>\n",
       "    <tr>\n",
       "      <th>1</th>\n",
       "      <td>2</td>\n",
       "      <td>5</td>\n",
       "    </tr>\n",
       "    <tr>\n",
       "      <th>2</th>\n",
       "      <td>3</td>\n",
       "      <td>6</td>\n",
       "    </tr>\n",
       "  </tbody>\n",
       "</table>\n",
       "</div>"
      ],
      "text/plain": [
       "   a  b\n",
       "0  1  4\n",
       "1  2  5\n",
       "2  3  6"
      ]
     },
     "execution_count": 53,
     "metadata": {},
     "output_type": "execute_result"
    }
   ],
   "source": [
    "import pandas as pd\n",
    "dff = pd.DataFrame({\"a\":[1,2,3], \"b\":[4,5,6]})\n",
    "dff"
   ]
  },
  {
   "cell_type": "code",
   "execution_count": null,
   "metadata": {},
   "outputs": [],
   "source": [
    "mydff = Main.myDf(3,4)"
   ]
  },
  {
   "cell_type": "code",
   "execution_count": null,
   "metadata": {},
   "outputs": [
    {
     "data": {
      "text/html": [
       "<div>\n",
       "<style scoped>\n",
       "    .dataframe tbody tr th:only-of-type {\n",
       "        vertical-align: middle;\n",
       "    }\n",
       "\n",
       "    .dataframe tbody tr th {\n",
       "        vertical-align: top;\n",
       "    }\n",
       "\n",
       "    .dataframe thead th {\n",
       "        text-align: right;\n",
       "    }\n",
       "</style>\n",
       "<table border=\"1\" class=\"dataframe\">\n",
       "  <thead>\n",
       "    <tr style=\"text-align: right;\">\n",
       "      <th></th>\n",
       "      <th>A</th>\n",
       "      <th>B</th>\n",
       "    </tr>\n",
       "  </thead>\n",
       "  <tbody>\n",
       "    <tr>\n",
       "      <th>0</th>\n",
       "      <td>1</td>\n",
       "      <td>M</td>\n",
       "    </tr>\n",
       "    <tr>\n",
       "      <th>1</th>\n",
       "      <td>2</td>\n",
       "      <td>F</td>\n",
       "    </tr>\n",
       "    <tr>\n",
       "      <th>2</th>\n",
       "      <td>3</td>\n",
       "      <td>F</td>\n",
       "    </tr>\n",
       "    <tr>\n",
       "      <th>3</th>\n",
       "      <td>4</td>\n",
       "      <td>M</td>\n",
       "    </tr>\n",
       "  </tbody>\n",
       "</table>\n",
       "</div>"
      ],
      "text/plain": [
       "   A  B\n",
       "0  1  M\n",
       "1  2  F\n",
       "2  3  F\n",
       "3  4  M"
      ]
     },
     "execution_count": 55,
     "metadata": {},
     "output_type": "execute_result"
    }
   ],
   "source": [
    "mydff\n",
    "from julia import Pandas as jlpd\n",
    "jlpd.DataFrame(mydff)"
   ]
  },
  {
   "cell_type": "code",
   "execution_count": null,
   "metadata": {},
   "outputs": [],
   "source": []
  }
 ],
 "metadata": {
  "kernelspec": {
   "display_name": "base",
   "language": "python",
   "name": "python3"
  },
  "language_info": {
   "codemirror_mode": {
    "name": "ipython",
    "version": 3
   },
   "file_extension": ".py",
   "mimetype": "text/x-python",
   "name": "python",
   "nbconvert_exporter": "python",
   "pygments_lexer": "ipython3",
   "version": "3.10.9"
  },
  "orig_nbformat": 4
 },
 "nbformat": 4,
 "nbformat_minor": 2
}
