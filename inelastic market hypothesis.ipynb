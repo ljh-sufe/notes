{
 "cells": [
  {
   "cell_type": "markdown",
   "metadata": {
    "collapsed": true,
    "pycharm": {
     "name": "#%% md\n"
    }
   },
   "source": [
    "2022-9\n",
    "\n",
    "notes from **In Search of the Origins of Financial Fluctuations: The Inelastic Markets Hypothesis**, by Xavier Gabaix & Ralph S. J. Koijen"
   ]
  },
  {
   "cell_type": "markdown",
   "source": [
    "\n",
    "one stock in the market with $Q$ shares and price $P$\n",
    "\n",
    "twp periods $t = 0$ and $t = 1$\n",
    "\n",
    "$\\pi=D^e-1-r_f$ is called the equity premium\n",
    "\n",
    "suppose one investor buys $I$ funds, $W_i$ is the wealth of fund $i$ and $Q_i$ is the shares of fund $i$ holds\n",
    "\n",
    "some other notations before time $0$: $\\bar{Q_i}$, $\\bar{P}$, $\\bar{D}$\n",
    "\n",
    "We assume that fund i’s demand for stocks is given by a mandate, saying that it should have a fraction invested in equities equal to:\n",
    "\n",
    "$$\\frac{P Q_i}{W_i}=\\theta_i e^{\\kappa_i \\hat{\\pi}}$$\n",
    "\n"
   ],
   "metadata": {
    "collapsed": false,
    "pycharm": {
     "name": "#%% md\n"
    }
   },
   "outputs": [
    {
     "ename": "SyntaxError",
     "evalue": "invalid syntax (2789049370.py, line 1)",
     "output_type": "error",
     "traceback": [
      "\u001B[1;36m  Input \u001B[1;32mIn [1]\u001B[1;36m\u001B[0m\n\u001B[1;33m    one stock in the market with $Q$ shares and price $P$\u001B[0m\n\u001B[1;37m        ^\u001B[0m\n\u001B[1;31mSyntaxError\u001B[0m\u001B[1;31m:\u001B[0m invalid syntax\n"
     ]
    }
   ],
   "execution_count": 1
  },
  {
   "cell_type": "markdown",
   "source": [
    "\n",
    "At time 0 , the representative household invests $\\Delta F_i$ extra dollars in each fund $i$ (taking those dollars from the pure bond fund), which represents a fractional inflow $f_i=\\frac{\\Delta F_i}{W_i}$.\n",
    "The next proposition gives the change in demand by fund $i$. We perform the analysis for small disturbances $f_i, d$, and hence small $p, q_i$\n",
    "\n",
    "$$\\begin{aligned}\n",
    "w_i &= \\frac{W_i-\\bar{W_i}}{\\bar{W_i}} \\\\\n",
    "&= \\frac{P\\bar{Q_i}+\\Delta F_i - \\bar{P}\\bar{Q_i}}{\\bar{W_i}} \\\\\n",
    "&= \\frac{\\Delta P \\bar{Q_i}}{\\bar{W_i}} + \\frac{\\Delta F_i}{\\bar{W_i}} \\\\\n",
    "&= \\frac{\\Delta P}{P}\\times\\frac{P\\bar{Q_i}}{\\bar{W_i}} + \\frac{\\Delta F_i}{\\bar{W_i}} \\\\\n",
    "&= p\\theta_i+f_i\n",
    "\\end{aligned}\n",
    "$$\n",
    "\n",
    "This means that the value of the fund increases via the inflow of $f_i$, and via the appreciation of the stock p, to which the fund has an exposure $\\theta_i$\n",
    "\n",
    "Let us first take the case $\\kappa_i=0$. The demand (1) is:\n",
    "$$\n",
    "Q_i=\\frac{\\theta_i W_i}{P}=\\frac{\\theta_i \\bar{W}_i\\left(1+w_i\\right)}{\\bar{P}(1+p)}=\\bar{Q}_i \\frac{1+w_i}{1+p},\n",
    "$$\n",
    "so that the fractional change in the fund's demand for shares is:\n",
    "$$\n",
    "q_i=\\frac{Q_i}{\\bar{Q}_i}-1=\\frac{w_i-p}{1+p}=\\frac{\\theta_i p+f_i-p}{1+p}=\\frac{f_i-\\zeta_i p}{1+p},\n",
    "$$\n",
    "\n",
    "For small price changes, this gives $q_i$ ≈ $f_i - \\zeta p_i $. For equilibrium condition, $q_S=0$, so $f-\\zeta p=0$, which means\n",
    "$$p=\\frac{f}{\\zeta}$$\n",
    "\n",
    "\n",
    "for the case $\\kappa_i \\neq0$, We take $\\log$ in demand(1), so that $$\\ln Q_i=\\ln W_i+\\ln \\theta_i-\\ln P_i+\\kappa_i \\hat{\\pi}$$\n",
    "Given that initially $$\\ln \\bar{Q}_i=\\ln \\bar{W}_i+\\ln \\theta_i-\\ln \\bar{P}$$\n",
    "taking differences we have $$\\Delta \\ln Q_i=\\Delta \\ln W_i-\\Delta \\ln P+\\kappa_i \\hat{\\pi}$$\n",
    "Finally, we use the Taylor expansion\n",
    "$$\n",
    "q_i=w_i-p+\\kappa_i \\hat{\\pi} .\n",
    "$$\n",
    "\n",
    "\n",
    "Taking $\\operatorname{logs}$ and then deviations from the baseline $D / P$ ratio gives:\n",
    "$$\n",
    "\\Delta \\ln \\frac{D^e}{P}=\\Delta \\ln D^e-\\Delta \\ln P=d-p .\n",
    "$$\n",
    "On the other hand, as $\\delta=\\frac{D^e}{P}=1+r_f+\\pi$, we have $\\Delta \\ln \\frac{D^e}{P}=\\frac{\\Delta \\pi}{1+r_f+\\pi}= \\frac{\\delta}{\\hat{\\pi}}$ (with $\\left.\\hat{\\pi}=\\Delta \\pi\\right)$, so that:\n",
    "$$\n",
    "\\hat{\\pi}=\\delta(d-p)\n",
    "$$\n",
    "\n",
    "\n",
    "we have the key point of the two period model\n",
    "\n",
    "Proposition 2. (Aggregate demand for aggregate equities in the two-period model) The aggregate demand for equities is\n",
    "$$\n",
    "q=-\\zeta p+\\kappa \\delta d+f,\n",
    "$$\n",
    "$\\zeta$ is the macro elasticity of demand:\n",
    "$$\n",
    "\\zeta=1-\\theta+\\kappa \\delta .\n",
    "$$\n",
    "\n",
    "\n",
    "The “aggregate flow into equities” is non-zero even though “for every buyer there is a seller”\n",
    "\n",
    "\n",
    "$$\n",
    "\\sum_i \\Delta F_i=0, \\quad \\sum_i \\Delta Q_i=0 .\n",
    "$$\n",
    "\n",
    "$$\n",
    "f_S=\\frac{\\sum_i \\theta_i \\Delta F_i}{\\bar{W}^{\\mathcal{E}}}\n",
    "$$\n"
   ],
   "metadata": {
    "collapsed": false,
    "pycharm": {
     "name": "#%% md\n"
    }
   }
  },
  {
   "cell_type": "markdown",
   "source": [
    "\n",
    "Suppose that there are just two funds: the pure bond fund and the representative mixed fund, which always holds $80 \\%$ in equities. Then, $\\theta=0.8, \\kappa=0$, so that $\\zeta=1-\\theta=0.2$ and $\\frac{1}{\\zeta}=5$. Then an extra 1 inflow into the stock market increases the total market valuation by 1.\n",
    "\n",
    "Suppose now that an investor sells 1 of bonds from the pure bond fund (he had  B-20 in the pure bond fund, and now he has B-21), and invests this 1 into the mixed fund.\n",
    "\n",
    "In equilibrium, the pure bond fund still holds B-21 worth of bonds. The balanced fund's holdings are 21 in bonds (indeed, it holds the remaining 21 of bonds) and $4 \\times 21= 84$ in stocks. As the balanced fund holds all 80 shares, the stock price is $P=\\frac{ 84}{80}= 1.05$, whereas it started at $P= 1$ : stock prices have increased by $5 \\%$. The fund's value also has increased by $5 \\%$, to $ 105$.\n",
    "\n",
    "\n"
   ],
   "metadata": {
    "collapsed": false
   }
  },
  {
   "cell_type": "markdown",
   "source": [
    "\n",
    "the macro elasticity is a new parameter of interest that is first estimated in this paper\n",
    "\n",
    "The key difficulty is that prices, equity demand, and flows are in part driven by aggregate shocks, such as macroeconomic news, so that naively regressing prices on flows or flows on prices would not yield a consistent estimate of the elasticity or multiplier. Hence, we need an instrument.\n",
    "\n",
    "\n",
    "\n",
    "\n",
    "\n",
    "\n",
    "to estimate the multiplier $M$, they run such a regression:\n",
    "\n",
    "$$\n",
    "\\Delta p_t=a+M Z_t+\\lambda^{\\prime} \\eta_t^e+m^{\\prime} C_t+e_t,\n",
    "$$\n",
    "where $Z_t=K S_{t-1}^{M F} \\epsilon_t^{M F}$. After controls, $Z_t$ is the surprise inflow unique to mutual funds.\n",
    "\n",
    "As a common observed factor, $C_t$, we use GDP growth.\n",
    "\n",
    "\n",
    "$$\n",
    "\\Delta f_t^{M F}=a_0+\\sum_{l=1}^k a_l \\Delta f_{t-l}^{M F}+c t+\\epsilon_{m t}^{M F},\n",
    "$$\n",
    "Based on the estimated model $A R(k)$ model for flows, we define $K=\\frac{1}{1-\\sum_{l=1}^k a_l}$.\n",
    "\n",
    "$$\n",
    "\\epsilon_t^{M F}=\\beta_0^{\\prime} \\eta_t+\\beta_1^{\\prime} C_t+u_t^{M F},\n",
    "$$\n",
    "where $\\eta_t$ are common unobserved factors, $C_t$ are common observed factors, and $u_t^{M F}$ are the unique shocks to fund flows.\n",
    "\n",
    "\n",
    "$$\n",
    "\\Delta q_{i t}=a_i+b_i \\Delta y_t+c_t+\\eta_{1 t} x_{1 i, t-1}+\\eta_{2 t} x_{2 i, t-1}+\\Delta \\check{q}_{i t},\n",
    "$$\n",
    "where $\\Delta y_t$ is GDP growth, $a_i$ is an investor fixed effect, $c_t$ is a time fixed effect, $x_{1 i, t-1}$ is lagged size, and $x_{2 i, t-1}$ lagged active share. We collect the residuals, $\\Delta \\check{q}_{i t}$.\n",
    "\n",
    "<br><br><br>\n",
    "about GIV:\n",
    "first we have a vector $X$, define $X_E=\\frac{1}{N} \\sum_{i=1}^N X_i, X_S=\\sum_{i=1}^N S_i X_i$\n",
    "and their difference $X_{\\Gamma}==X_S-X_E$. Suppose every element $X_i$ will receive an uncorrelated idiosyncratic shock $u_i$, with variance $\\sigma^2_{u_i}$. Based on that we define inverse variance weight $\\tilde{E}$, inverse-variance weighted mean $X_{\\tilde{E}}$  and granular residual $X_{\\tilde{\\Gamma}}$\n",
    "\n",
    "$$\\tilde{E}_i=\\frac{1 / \\sigma_{u_i}^2}{\\sum_{j=1}^N 1 / \\sigma_{u_i}^2}， X_{\\tilde{E}}=\\sum_{i=1}^N \\tilde{E}_i X_i, X_{\\tilde{\\Gamma}}=X_S-X_{\\tilde{E}}$$\n",
    "\n",
    "when $u_i$ are i.i.d， $\\tilde{E}_i=E_i$ and $X_{\\tilde{\\Gamma}}=X_{\\Gamma}$\n",
    "\n",
    "\n",
    "$$\n",
    "Z_t:=\\Delta q_{\\Gamma t}=\\Delta q_{S t}-\\Delta q_{E t} .\n",
    "$$\n",
    "As $\\Delta q_{S t}=-\\zeta \\Delta p_t+\\eta_t+u_{S t}$ and $\\Delta q_{E t}=-\\zeta \\Delta p_t+\\eta_t+u_{E t}$, we have:\n",
    "$$\n",
    "Z_t=u_{S t}-u_{E t}=u_{\\Gamma t} .\n",
    "$$\n",
    "Methodology: General case with non-uniform loadings In the general case with nonuniform loadings and an $r$-dimensional vector of common latent shocks $\\eta_t$. We extract $r$ principal components from the Flow of Funds data, $\\eta_t$. Then, we run the following OLS regression, using the extracted factors $\\eta_t$ as controls:\n",
    "$$\n",
    "\\Delta p_t=M Z_t+\\beta^{\\prime} \\eta_t+e_t\n",
    "$$\n",
    "and estimate the multiplier $M$ as the coefficient on the GIV $Z_t$\n",
    "\n",
    "$$\n",
    "\\Delta q_{i t}=\\alpha_i-\\zeta \\Delta p_t+\\lambda_i^{\\prime} \\eta_t+u_{i t}\n",
    "$$\n"
   ],
   "metadata": {
    "collapsed": false,
    "pycharm": {
     "name": "#%% md\n"
    }
   }
  }
 ],
 "metadata": {
  "kernelspec": {
   "display_name": "Python 3",
   "language": "python",
   "name": "python3"
  },
  "language_info": {
   "codemirror_mode": {
    "name": "ipython",
    "version": 2
   },
   "file_extension": ".py",
   "mimetype": "text/x-python",
   "name": "python",
   "nbconvert_exporter": "python",
   "pygments_lexer": "ipython2",
   "version": "2.7.6"
  }
 },
 "nbformat": 4,
 "nbformat_minor": 0
}