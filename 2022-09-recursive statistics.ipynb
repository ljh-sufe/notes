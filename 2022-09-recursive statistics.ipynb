{
 "cells": [
  {
   "cell_type": "markdown",
   "metadata": {
    "collapsed": true,
    "pycharm": {
     "name": "#%% md\n"
    }
   },
   "source": [
    "2022/09/21\n",
    "\n",
    "matrix version\n",
    "\n",
    "X with shape (n,l) which means n samples and l variables, so its covariance matrix should be (l,l)\n",
    "\n",
    "$\\mu_n=\\frac1n \\sum X_{i:}$"
   ]
  },
  {
   "cell_type": "markdown",
   "source": [
    "\n",
    "\n",
    "$ Cov_n = \\frac{1}{n-1} (X-\\mu_n)^T(x-\\mu_n)$"
   ],
   "metadata": {
    "collapsed": false,
    "pycharm": {
     "name": "#%% md\n"
    }
   }
  },
  {
   "cell_type": "markdown",
   "source": [
    "\n",
    "\n",
    "$\\mu_{n+1} = \\frac{n}{n+1} \\mu_n + \\frac{1}{n+1}x_{n+1}$"
   ],
   "metadata": {
    "collapsed": false,
    "pycharm": {
     "name": "#%% md\n"
    }
   }
  },
  {
   "cell_type": "markdown",
   "source": [
    "$Cov_{n+1}= \\frac{n-1}{n} Cov_n + \\frac{1}{n+1} \\Delta_{n+1}^T\\Delta_{n+1}$\n",
    "\n",
    "where $\\Delta_{n+1} = x_{n+1} - \\mu_n$"
   ],
   "metadata": {
    "collapsed": false,
    "pycharm": {
     "name": "#%% md\n"
    }
   }
  },
  {
   "cell_type": "markdown",
   "source": [
    "proof:\n",
    "\n",
    "\\begin{align*}\n",
    "\\hat{\\Sigma}_n &= \\frac{1}{n-1}\\sum_{i=1}^n(x_i - \\hat{\\mu}_n)(x_i - \\hat{\\mu}_n)^T\\\\\n",
    "&=\\frac{1}{n-1}\\sum_{i=1}^n x_ix_i^T - \\frac{n}{n-1}\\hat{\\mu}_n\\hat{\\mu}_n^T\\\\\n",
    "&= \\frac{1}{n-1}\\sum_{i=1}^{n-1} x_ix_i^T + \\frac{1}{n-1}x_nx_n^T - \\frac{n}{n-1}\\hat{\\mu}_n\\hat{\\mu}_n^T \\\\\n",
    "&= \\frac{1}{n-1}\\sum_{i=1}^{n-1} x_ix_i^T + \\frac{1}{n-1}x_nx_n^T - \\frac{n}{n-1} \\left(\\frac{n-1}{n} \\hat{\\mu}_{n-1} + \\frac{1}{n}x_n \\right)\\left(\\frac{n-1}{n} \\hat{\\mu}_{n-1} + \\frac{1}{n}x_n \\right)^T \\\\\n",
    "&= \\frac{1}{n-1}\\sum_{i=1}^{n-1} x_ix_i^T + \\frac{1}{n-1}x_nx_n^T - \\left( \\hat{\\mu}_{n-1} + \\frac{1}{n-1}x_n \\right)\\left(\\frac{n-1}{n} \\hat{\\mu}_{n-1} + \\frac{1}{n}x_n \\right)^T \\\\\n",
    "&= \\frac{1}{n-1} \\sum_{i=1}^{n-1} x_ix_i^T + \\frac{1}{n-1}x_nx_n^T - \\frac{n-1}{n}\\hat{\\mu}_{n-1}\\hat{\\mu}_{n-1}^T - \\frac{1}{n} \\hat{\\mu}_{n-1} x_n^T - \\frac{1}{n}x_n\\hat{\\mu}_{n-1}^T - \\frac{1}{(n-1)n} x_n x_n^T \\\\\n",
    "&= \\frac{1}{n-1} \\sum_{i=1}^{n-1} x_ix_i^T + \\frac{1}{n-1}x_nx_n^T - \\frac{n-1}{n}\\hat{\\mu}_{n-1}\\hat{\\mu}_{n-1}^T - \\frac{1}{n} \\hat{\\mu}_{n-1} x_n^T - \\frac{1}{n}x_n\\hat{\\mu}_{n-1}^T + \\frac{1}{n}x_n x_n^T - \\frac{1}{n-1} x_n x_n^T \\\\\n",
    "&= \\frac{1}{n-1} \\sum_{i=1}^{n-1} x_ix_i^T + \\frac{1}{n-1}x_nx_n^T - \\hat{\\mu}_{n-1}\\hat{\\mu}_{n-1}^T  - \\frac{1}{n-1} x_n x_n^T +\\left( \\frac{1}{n}x_n x_n^T - \\frac{1}{n}x_n\\hat{\\mu}_{n-1}^T - \\frac{1}{n} \\hat{\\mu}_{n-1} x_n^T + \\frac{1}{n}\\hat{\\mu}_{n-1}\\hat{\\mu}_{n-1}^T \\right) \\\\\n",
    "&= \\frac{1}{n-1} \\sum_{i=1}^{n-1} x_ix_i^T - \\hat{\\mu}_{n-1}\\hat{\\mu}_{n-1}^T  + \\frac{1}{n}\\Delta_n\\Delta_n^T \\\\\n",
    "&= \\frac{n-2}{n-1}\\left(\\frac{1}{n-2} \\sum_{i=1}^{n-1} x_ix_i^T - \\frac{n-1}{n-2}\\hat{\\mu}_{n-1}\\hat{\\mu}_{n-1}^T\\right)  + \\frac{1}{n}\\Delta_n\\Delta_n^T \\\\\n",
    "&= \\frac{n-2}{n-1}\\hat{\\Sigma}_{n-1} + \\frac{1}{n}\\Delta_n \\Delta_n^T.\n",
    "\\end{align*}"
   ],
   "metadata": {
    "collapsed": false,
    "pycharm": {
     "name": "#%% md\n"
    }
   }
  }
 ],
 "metadata": {
  "kernelspec": {
   "display_name": "Python 3",
   "language": "python",
   "name": "python3"
  },
  "language_info": {
   "codemirror_mode": {
    "name": "ipython",
    "version": 2
   },
   "file_extension": ".py",
   "mimetype": "text/x-python",
   "name": "python",
   "nbconvert_exporter": "python",
   "pygments_lexer": "ipython2",
   "version": "2.7.6"
  }
 },
 "nbformat": 4,
 "nbformat_minor": 0
}