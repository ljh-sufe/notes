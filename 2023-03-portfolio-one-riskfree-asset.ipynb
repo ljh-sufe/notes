{
 "cells": [
  {
   "attachments": {},
   "cell_type": "markdown",
   "metadata": {},
   "source": [
    "now let's consider this situation : n risky assets and one risk free asset. assume risk free rate is $\\rho_0$"
   ]
  },
  {
   "attachments": {},
   "cell_type": "markdown",
   "metadata": {},
   "source": [
    "the problem we are going to optimize is:\n",
    "\n",
    "$$min f(w)=\\frac12 w'Vw$$\n",
    "$$s.t. \\sum w_i(\\mu_i -\\rho_0) = \\mu_p - \\rho_0$$\n",
    "\n",
    "the sum of weights of risky assets need not to be $1$ because we can borrow or invest on risk free asset.\n"
   ]
  },
  {
   "attachments": {},
   "cell_type": "markdown",
   "metadata": {},
   "source": [
    "in this case, the lagrangian function becomes:\n",
    "\n",
    "$$L(w,\\lambda)=\\frac12w'Vw+\\lambda (\\mu_p - \\rho_0 - w'(\\mu - \\rho_0 \\mathbf{1})) $$"
   ]
  },
  {
   "attachments": {},
   "cell_type": "markdown",
   "metadata": {},
   "source": [
    "we have the first order condition:\n",
    "\n",
    "$$\\begin{aligned}\n",
    "\\nabla_{\\mathbf{w}} L & =V \\mathbf{w}_{p^{+}}-\\lambda\\left(\\boldsymbol{\\mu}-\\rho_0 \\mathbf{1}\\right)=\\mathbf{0} \\\\\n",
    "\\frac{\\partial L}{\\partial \\lambda} & =\\rho_0-\\mu_{p^{+}}+\\mathbf{w}_{p^{+}}^T\\left(\\boldsymbol{\\mu}-\\rho_0 \\mathbf{1}\\right)=0\n",
    "\\end{aligned}$$"
   ]
  },
  {
   "attachments": {},
   "cell_type": "markdown",
   "metadata": {},
   "source": [
    "by solving $w$ in the first equation and substitute it into the second one, we have:\n",
    "\n",
    "$$\\begin{aligned}\n",
    "&\\mathbf{w}_{p^{+}}=\\lambda V^{-1}\\left(\\boldsymbol{\\mu}-\\rho_0 \\mathbf{1}\\right) .\\\\\n",
    "&\\lambda=\\frac{\\mu_{p^{+}}-\\rho_0}{\\left(\\boldsymbol{\\mu}-\\rho_0 \\mathbf{1}\\right)^T V^{-1}\\left(\\boldsymbol{\\mu}-\\rho_0 \\mathbf{1}\\right)}\n",
    "\\end{aligned}$$"
   ]
  },
  {
   "attachments": {},
   "cell_type": "markdown",
   "metadata": {},
   "source": [
    "let $H:=\\left(\\boldsymbol{\\mu}-\\rho_0 \\mathbf{1}\\right)^T V^{-1}\\left(\\boldsymbol{\\mu}-\\rho_0 \\mathbf{1}\\right)$ and substitute $\\lambda$ into $w$ we have:\n",
    "\n",
    "$$\\mathbf{w}_{p^{+}}=\\left(\\frac{\\mu_{p^{+}}-\\rho_0}{H}\\right) V^{-1}\\left(\\boldsymbol{\\mu}-\\rho_0 \\mathbf{1}\\right)$$"
   ]
  },
  {
   "attachments": {},
   "cell_type": "markdown",
   "metadata": {},
   "source": [
    "The portfolio with the smallest variance for the specified expected return $\\mu_{p^{+}}$is then given by:\n",
    "$$\n",
    "\\begin{aligned}\n",
    "\\sigma_{p^{+}}^2 & =\\mathbf{w}_{p^{+}}^T V \\mathbf{w}_{p^{+}} \\\\\n",
    "& =\\left(\\left(\\frac{\\mu_{p^{+}}-\\rho_0}{H}\\right) V^{-1}\\left(\\boldsymbol{\\mu}-\\rho_0 \\mathbf{1}\\right)\\right)^T V\\left(\\frac{\\mu_{p^{+}}-\\rho_0}{H}\\right) V^{-1}\\left(\\boldsymbol{\\mu}-\\rho_0 \\mathbf{1}\\right) \\\\\n",
    "& =\\left(\\frac{\\mu_{p^{+}}-\\rho_0}{H}\\right)^2\\left(\\boldsymbol{\\mu}-\\rho_0 \\mathbf{1}\\right) V^{-1} V V^{-1}\\left(\\boldsymbol{\\mu}-\\rho_0 \\mathbf{1}\\right) \\\\\n",
    "& =\\left(\\boldsymbol{\\mu}-\\rho_0 \\mathbf{1}\\right)^T\\left(\\frac{\\mu_{p^{+}}-\\rho_0}{H}\\right)^2\\left(\\boldsymbol{\\mu}-\\rho_0 \\mathbf{1}\\right) \\\\\n",
    "& =\\frac{\\left(\\mu_{p^{+}}-\\rho_0\\right)^2}{H} .\n",
    "\\end{aligned}\n",
    "$$\n",
    "This can be expressed by:\n",
    "$$\n",
    "\\sigma_{p^{+}}=\\frac{\\left|\\mu_{p^{+}}-\\rho_0\\right|}{\\sqrt{H}}\n",
    "$$"
   ]
  },
  {
   "attachments": {},
   "cell_type": "markdown",
   "metadata": {},
   "source": [
    "**The relationship between the variance and expected returns of the portfolio can be summarized in the ($σ$, $μ$)-plane as two half-lines with slopes $\\pm \\sqrt{H}$ intersecting the point (0, $ρ_0$).**"
   ]
  },
  {
   "attachments": {},
   "cell_type": "markdown",
   "metadata": {},
   "source": [
    "![](https://gregorygundersen.com/image/efficient/diagram.png)"
   ]
  },
  {
   "cell_type": "markdown",
   "metadata": {},
   "source": []
  },
  {
   "cell_type": "markdown",
   "metadata": {},
   "source": []
  },
  {
   "cell_type": "markdown",
   "metadata": {},
   "source": []
  }
 ],
 "metadata": {
  "kernelspec": {
   "display_name": "Python 3",
   "language": "python",
   "name": "python3"
  },
  "language_info": {
   "name": "python",
   "version": "3.9.6"
  },
  "orig_nbformat": 4,
  "vscode": {
   "interpreter": {
    "hash": "31f2aee4e71d21fbe5cf8b01ff0e069b9275f58929596ceb00d14d90e3e16cd6"
   }
  }
 },
 "nbformat": 4,
 "nbformat_minor": 2
}
